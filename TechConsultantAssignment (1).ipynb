{
 "cells": [
  {
   "cell_type": "code",
   "execution_count": 12,
   "id": "55fe1c32-54b6-4d2c-920d-2110172afd39",
   "metadata": {},
   "outputs": [],
   "source": [
    "#import libraries\n",
    "import pandas as pd\n",
    "import requests\n",
    "import csv"
   ]
  },
  {
   "cell_type": "code",
   "execution_count": 4,
   "id": "4e18bff2-09cc-4d6b-a75c-02c8a9192c03",
   "metadata": {},
   "outputs": [],
   "source": [
    "#read csv text files\n",
    "emailFile = pd.read_csv(\"emails.txt\")\n",
    "userFile = pd.read_csv(\"Users.txt\")"
   ]
  },
  {
   "cell_type": "code",
   "execution_count": 5,
   "id": "7acee40c-6acb-449a-9c68-d6034e43b33c",
   "metadata": {},
   "outputs": [
    {
     "data": {
      "text/plain": [
       "<bound method NDFrame.to_csv of       user_id               email first_name last_name\n",
       "0  oi6IhEzu9R  user_2@example.com   Leatrice    Oquinn\n",
       "1  fQFLNRDae8  user_5@example.com      Vella     Lynam\n",
       "2  fBYRtPtAlC  user_7@example.com       John     Smith\n",
       "3  fOSjdLnNP3  user_9@example.com      Qiana      Walk\n",
       "4  uxz2jFwr5I  user_1@example.com     Benito     Festa\n",
       "5  zSbmdNiSHH  user_4@example.com      Taryn    Jaycox\n",
       "6  fjM66woroy  user_0@example.com     Yadira    Irving\n",
       "7  oh4mHXh8zN  user_3@example.com      Julie    Mosser\n",
       "8  gXWj37JC5d  user_8@example.com      Shaun   Kreiger\n",
       "9  4dBdXURAz3  user_6@example.com    Jacques   Cuellar>"
      ]
     },
     "execution_count": 5,
     "metadata": {},
     "output_type": "execute_result"
    }
   ],
   "source": [
    "#merge two csv files\n",
    "usersMerged = emailFile.merge(userFile, on='user_id')\n",
    "usersMerged.to_csv"
   ]
  },
  {
   "cell_type": "code",
   "execution_count": 16,
   "id": "970de7f5-9668-42fc-85bf-ae37a60225e5",
   "metadata": {},
   "outputs": [
    {
     "name": "stdout",
     "output_type": "stream",
     "text": [
      "<Response [200]>\n"
     ]
    }
   ],
   "source": [
    "#send Curl for each user\n",
    "\n",
    "for user in usersMerged:\n",
    "    \n",
    "    headers = {\n",
    "    'Content-Type': 'application/x-www-form-urlencoded',\n",
    "    'Accept': 'application/json',\n",
    "}\n",
    "\n",
    "    data = {\n",
    "  'aid': 'o1sRRZSLlw',\n",
    "  'api_token': 'zziNT81wShznajW2BD5eLA4VCkmNJ88Guye7Sw4D',\n",
    "  'email': '\"usersMerged.email\"',\n",
    "  'first_name': '\"usersMerged.first_name\"',\n",
    "  'last_name': '\"usersMerged.last_name\"',\n",
    "  'uid': '\"usersMerged.user_id\"'\n",
    "}\n",
    "\n",
    "    response = requests.post('https://sandbox.tinypass.com/api/v3/publisher/user/create', headers=headers, data=data)\n",
    "\n",
    "print(response)"
   ]
  },
  {
   "cell_type": "code",
   "execution_count": null,
   "id": "86fbd487-3634-4e6a-8901-e79c284805e0",
   "metadata": {},
   "outputs": [],
   "source": []
  }
 ],
 "metadata": {
  "kernelspec": {
   "display_name": "Python",
   "language": "python",
   "name": "conda-env-python-py"
  },
  "language_info": {
   "codemirror_mode": {
    "name": "ipython",
    "version": 3
   },
   "file_extension": ".py",
   "mimetype": "text/x-python",
   "name": "python",
   "nbconvert_exporter": "python",
   "pygments_lexer": "ipython3",
   "version": "3.6.13"
  }
 },
 "nbformat": 4,
 "nbformat_minor": 5
}
